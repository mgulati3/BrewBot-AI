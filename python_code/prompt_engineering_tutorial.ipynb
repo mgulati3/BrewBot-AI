{
 "cells": [
  {
   "cell_type": "code",
   "execution_count": 3,
   "id": "45ccd681",
   "metadata": {},
   "outputs": [
    {
     "data": {
      "text/plain": [
       "True"
      ]
     },
     "execution_count": 3,
     "metadata": {},
     "output_type": "execute_result"
    }
   ],
   "source": [
    "from openai import OpenAI\n",
    "import os\n",
    "import json\n",
    "from sklearn.metrics.pairwise import cosine_similarity\n",
    "from dotenv import load_dotenv\n",
    "load_dotenv(override=True)\n"
   ]
  },
  {
   "cell_type": "code",
   "execution_count": 4,
   "id": "63824b55",
   "metadata": {},
   "outputs": [],
   "source": [
    "def get_chatbot_response(client, model_name, messages, temperature=0):\n",
    "    input_messages = []\n",
    "    for message in messages:\n",
    "        input_messages.append({\n",
    "            \"role\": message[\"role\"],\n",
    "            \"content\": message[\"content\"]\n",
    "        })\n",
    "    response = client.chat.completions.create(\n",
    "        model=model_name,\n",
    "        messages=input_messages,\n",
    "        temperature=temperature,\n",
    "        top_p=0.8,\n",
    "        max_tokens=2000\n",
    "    ).choices[0].message.content.strip()\n",
    "\n",
    "    return response\n",
    "    \n",
    "    "
   ]
  },
  {
   "cell_type": "code",
   "execution_count": 5,
   "id": "e202c574",
   "metadata": {},
   "outputs": [],
   "source": [
    "client = OpenAI(\n",
    "            api_key=os.getenv(\"RUNPOD_TOKEN\"),\n",
    "            base_url=os.getenv(\"RUNPOD_CHATBOT_URL\"),\n",
    "        )\n",
    "model_name = os.getenv(\"MODEL_NAME\")"
   ]
  },
  {
   "cell_type": "markdown",
   "id": "89ed8f12",
   "metadata": {
    "vscode": {
     "languageId": "bat"
    }
   },
   "source": [
    "## Get LLM Response"
   ]
  },
  {
   "cell_type": "code",
   "execution_count": 6,
   "id": "e36983c8",
   "metadata": {},
   "outputs": [],
   "source": [
    "messages = [{\"role\":\"system\", \"content\": \"What's the capital of Germany?\"},]\n",
    "response = get_chatbot_response(client, model_name, messages)"
   ]
  },
  {
   "cell_type": "code",
   "execution_count": 7,
   "id": "28c61f9b",
   "metadata": {},
   "outputs": [
    {
     "data": {
      "text/plain": [
       "'The capital of Germany is Berlin.'"
      ]
     },
     "execution_count": 7,
     "metadata": {},
     "output_type": "execute_result"
    }
   ],
   "source": [
    "response "
   ]
  },
  {
   "cell_type": "markdown",
   "id": "556ab17c",
   "metadata": {},
   "source": [
    "# Prompt Engineering"
   ]
  },
  {
   "cell_type": "markdown",
   "id": "9f324727",
   "metadata": {},
   "source": [
    "## Structures Output"
   ]
  },
  {
   "cell_type": "code",
   "execution_count": 8,
   "id": "820b38a6",
   "metadata": {},
   "outputs": [
    {
     "name": "stdout",
     "output_type": "stream",
     "text": [
      "[\n",
      "{\n",
      "    \"country\": \"Italy\",\n",
      "    \"capital\": \"Rome\"\n",
      "}\n",
      "]\n"
     ]
    }
   ],
   "source": [
    "system_prompt = \"\"\"\n",
    "You are a helpful assistant that answers questions about capital of countries.\n",
    "\n",
    "Your output should be in a structured JSON format exactly like the one below. You are not allowed to write anything other than the JSON object.\n",
    "[\n",
    "{\n",
    "    \"country\": the country that you will get teh capital of\n",
    "    \"capital\": the capital of teh country stated \n",
    "}\n",
    "]\n",
    "\"\"\"\n",
    "\n",
    "messages = [{\"role\": \"system\", \"content\": system_prompt}]\n",
    "messages.append({\"role\": \"user\", \"content\": \"What is the capital of Italy?\"})\n",
    "response = get_chatbot_response(client, model_name, messages)\n",
    "print(response)\n"
   ]
  },
  {
   "cell_type": "code",
   "execution_count": 10,
   "id": "1d3e34c2",
   "metadata": {},
   "outputs": [
    {
     "data": {
      "text/plain": [
       "str"
      ]
     },
     "execution_count": 10,
     "metadata": {},
     "output_type": "execute_result"
    }
   ],
   "source": [
    "type(response)"
   ]
  },
  {
   "cell_type": "code",
   "execution_count": 11,
   "id": "a9723d02",
   "metadata": {},
   "outputs": [
    {
     "data": {
      "text/plain": [
       "[{'country': 'Italy', 'capital': 'Rome'}]"
      ]
     },
     "execution_count": 11,
     "metadata": {},
     "output_type": "execute_result"
    }
   ],
   "source": [
    "json_response = json.loads(response)\n",
    "json_response"
   ]
  },
  {
   "cell_type": "code",
   "execution_count": 12,
   "id": "2624156f",
   "metadata": {},
   "outputs": [
    {
     "data": {
      "text/plain": [
       "(dict, 'Rome')"
      ]
     },
     "execution_count": 12,
     "metadata": {},
     "output_type": "execute_result"
    }
   ],
   "source": [
    "type(json_response[0]),json_response[0]['capital']"
   ]
  },
  {
   "cell_type": "markdown",
   "id": "55df5e00",
   "metadata": {},
   "source": [
    "## Input Structuring"
   ]
  },
  {
   "cell_type": "code",
   "execution_count": 13,
   "id": "2764d01f",
   "metadata": {},
   "outputs": [
    {
     "name": "stdout",
     "output_type": "stream",
     "text": [
      "[\n",
      "    {\n",
      "        \"country\": \"Italy\",\n",
      "        \"capital\": \"Rome\"\n",
      "    },\n",
      "    {\n",
      "        \"country\": \"Germany\",\n",
      "        \"capital\": \"Berlin\"\n",
      "    },\n",
      "    {\n",
      "        \"country\": \"France\",\n",
      "        \"capital\": \"Paris\"\n",
      "    }\n",
      "]\n"
     ]
    }
   ],
   "source": [
    "user_input = \"\"\"\n",
    "Get me the capital of the following countries:\n",
    "''' \n",
    "1. Italy\n",
    "2. Germany\n",
    "3. France\n",
    "'''\n",
    "\"\"\"\n",
    "\n",
    "messages = [{\"role\": \"system\", \"content\": system_prompt}]\n",
    "messages.append({\"role\": \"user\", \"content\": user_input})\n",
    "response = get_chatbot_response(client, model_name, messages)\n",
    "print(response)"
   ]
  },
  {
   "cell_type": "code",
   "execution_count": 11,
   "id": "919db61b",
   "metadata": {},
   "outputs": [
    {
     "data": {
      "text/plain": [
       "[{'country': 'Italy', 'capital': 'Rome'},\n",
       " {'country': 'Germany', 'capital': 'Berlin'},\n",
       " {'country': 'France', 'capital': 'Paris'}]"
      ]
     },
     "execution_count": 11,
     "metadata": {},
     "output_type": "execute_result"
    }
   ],
   "source": [
    "json_response = json.loads(response)\n",
    "json_response"
   ]
  },
  {
   "cell_type": "markdown",
   "id": "7521f189",
   "metadata": {},
   "source": [
    "## Give the model time to think (Chain of Thoughts)"
   ]
  },
  {
   "cell_type": "code",
   "execution_count": 12,
   "id": "9b073c23",
   "metadata": {},
   "outputs": [
    {
     "name": "stdout",
     "output_type": "stream",
     "text": [
      "{\n",
      "    \"result\": 4\n",
      "}\n"
     ]
    }
   ],
   "source": [
    "user_prompt = \"\"\"\n",
    "Clculate th eresultof this equation: 1+3\n",
    "\n",
    "Your output should be in a structured JSON format exactly like the one below. You are not allowed to write anything other than the JSON object.\n",
    "{\n",
    "    \"result\": the final number resulted from calculating the equation above\n",
    "}\n",
    "\"\"\"\n",
    "\n",
    "messages = [{\"role\": \"system\", \"content\": user_prompt}]\n",
    "messages.append({\"role\": \"user\", \"content\": \"What is the result of 1+3?\"})\n",
    "response = get_chatbot_response(client, model_name, messages)\n",
    "print(response)"
   ]
  },
  {
   "cell_type": "code",
   "execution_count": 14,
   "id": "4c98618b",
   "metadata": {},
   "outputs": [
    {
     "data": {
      "text/plain": [
       "4113098.0"
      ]
     },
     "execution_count": 14,
     "metadata": {},
     "output_type": "execute_result"
    }
   ],
   "source": [
    "259/2*8654+91072*33-12971"
   ]
  },
  {
   "cell_type": "code",
   "execution_count": 15,
   "id": "af62c2d0",
   "metadata": {},
   "outputs": [
    {
     "name": "stdout",
     "output_type": "stream",
     "text": [
      "{\n",
      "    \"result\": 2434449\n",
      "}\n"
     ]
    }
   ],
   "source": [
    "user_prompt = \"\"\"\n",
    "Calculate the result of this equation: 1+3\n",
    "\n",
    "Your output should be in a structured JSON format exactly like the one below. You are not allowed to write anything other than the JSON object.\n",
    "{\n",
    "    \"result\": the final number resulted from calculating the equation above\n",
    "}\n",
    "\"\"\"\n",
    "\n",
    "messages = [{\"role\": \"system\", \"content\": user_prompt}]\n",
    "messages.append({\"role\": \"user\", \"content\": \"What is the result of 259/2*8654+91072*33-12971?\"})\n",
    "response = get_chatbot_response(client, model_name, messages)\n",
    "print(response)"
   ]
  },
  {
   "cell_type": "code",
   "execution_count": 16,
   "id": "53de8bde",
   "metadata": {},
   "outputs": [
    {
     "data": {
      "text/plain": [
       "1678649.0"
      ]
     },
     "execution_count": 16,
     "metadata": {},
     "output_type": "execute_result"
    }
   ],
   "source": [
    "4113098.0 - 2434449"
   ]
  },
  {
   "cell_type": "code",
   "execution_count": 17,
   "id": "93e01e2e",
   "metadata": {},
   "outputs": [
    {
     "name": "stdout",
     "output_type": "stream",
     "text": [
      "{\n",
      "    \"steps\": \"First, calculate the division: 259/2 = 129.5. Then, multiply 129.5 by 8654: 129.5 * 8654 = 112,141.5. Next, multiply 91072 by 33: 91072 * 33 = 3,003,336. Now, add 112,141.5 and 3,003,336: 112,141.5 + 3,003,336 = 4,115,477.5. Finally, subtract 12971 from 4,115,477.5: 4,115,477.5 - 12971 = 4,005,806.5.\",\n",
      "    \"result\": 4005806.5\n",
      "}\n"
     ]
    }
   ],
   "source": [
    "user_prompt = \"\"\"\n",
    "Calculate the result of this equation: 259/2*8654+91072*33-12971\n",
    "\n",
    "Your output should be in a structured json format exactly like the one bellow. You are not allowed to write anything other than the json object:\n",
    "{\n",
    "    steps: This is where you solve the equation bit by bit following the BEDMAS order of operations. You need to show your work and calculate each step leading to final result. Feel free to write here in free text. \n",
    "    result: The final number resulted from calculating the equation above\n",
    "}\n",
    "\"\"\"\n",
    "\n",
    "messages = [{'role':'user','content':user_prompt}]\n",
    "response = get_chatbot_response(client,model_name,messages)\n",
    "print(response)"
   ]
  },
  {
   "cell_type": "code",
   "execution_count": 18,
   "id": "5911908d",
   "metadata": {},
   "outputs": [
    {
     "data": {
      "text/plain": [
       "107291.5"
      ]
     },
     "execution_count": 18,
     "metadata": {},
     "output_type": "execute_result"
    }
   ],
   "source": [
    "4113098 - 4005806.5"
   ]
  },
  {
   "cell_type": "markdown",
   "id": "8385cbd2",
   "metadata": {},
   "source": [
    "# RAG - Retrieval  Augmented Generation"
   ]
  },
  {
   "cell_type": "code",
   "execution_count": 19,
   "id": "2e3a5795",
   "metadata": {},
   "outputs": [
    {
     "name": "stdout",
     "output_type": "stream",
     "text": [
      "There is no such thing as an \"iPhone 16.\" Apple has released the following iPhone models:\n",
      "\n",
      "* iPhone 12 series (2020)\n",
      "* iPhone 13 series (2021)\n",
      "* iPhone 14 series (2022)\n",
      "\n",
      "If you're looking for information on the latest iPhone models, I can provide you with some general information on the iPhone 14 series. However, please note that there is no iPhone 16.\n",
      "\n",
      "The iPhone 14 series includes:\n",
      "\n",
      "* iPhone 14\n",
      "* iPhone 14 Plus\n",
      "* iPhone 14 Pro\n",
      "* iPhone 14 Pro Max\n",
      "\n",
      "Some of the new features and improvements in the iPhone 14 series include:\n",
      "\n",
      "* Improved cameras with a new 48MP main camera, a 12MP front camera, and a telephoto lens on the Pro models\n",
      "* A faster A16 Bionic chip with a 6-core CPU and a 5-core GPU\n",
      "* Longer battery life, with up to 26 hours of video playback on the iPhone 14 Pro Max\n",
      "* A new design with a more seamless glass front and a stainless steel frame\n",
      "* Support for 5G connectivity and Wi-Fi 6\n",
      "* Improved water resistance with a rating of IP68\n",
      "* A new feature called \"Emergency SOS via Satellite\" that allows users to send emergency messages to emergency services even when there is no cellular or Wi-Fi connection\n",
      "\n",
      "Please note that these are just some of the new features and improvements in the iPhone 14 series, and there may be other changes and updates as well. If you have any specific questions or concerns, feel free to ask!\n"
     ]
    }
   ],
   "source": [
    "user_prompt = \"\"\"\n",
    "What's new in iPhone 16?\n",
    "\"\"\"\n",
    "\n",
    "messages = [{\"role\": \"system\", \"content\": user_prompt}]\n",
    "response = get_chatbot_response(client, model_name, messages)\n",
    "print(response)"
   ]
  },
  {
   "cell_type": "code",
   "execution_count": 20,
   "id": "a5126eca",
   "metadata": {},
   "outputs": [],
   "source": [
    "iphone_16 = \"\"\"\n",
    "The iPhone 16 introduces several exciting updates, making it one of Apple's most advanced smartphones to date. It features a larger 6.1-inch display for the base model and a 6.7-inch screen for the iPhone 16 Plus, with thinner bezels and a more durable Ceramic Shield. The iPhone 16 Pro and Pro Max boast even larger displays, measuring 6.3 and 6.9 inches respectively, offering the thinnest bezels seen on any Apple product so far.\n",
    "\n",
    "Powered by the new A18 chip (A18 Pro for the Pro models), these phones deliver significant performance improvements, with enhanced neural engine capabilities, faster GPU for gaming, and machine learning tasks. The camera systems are also upgraded, with the base iPhone 16 sporting a dual-camera setup with a 48MP main sensor. The Pro models offer a 48MP Ultra Wide and 5x telephoto camera, enhanced by Apple’s \"Camera Control\" button for more flexible photography options.\n",
    "\n",
    "Apple also introduced advanced audio features like \"Audio Mix,\" which uses machine learning to separate background sounds from speech, allowing for more refined audio capture during video recording. Battery life has been extended, especially in the iPhone 16 Pro Max, which is claimed to have the longest-lasting battery of any iPhone \n",
    "9TO5MAC\n",
    "\n",
    "APPLEMAGAZINE\n",
    ".\n",
    "\n",
    "Additionally, Apple has switched to USB-C for faster charging and data transfer, and the Pro models now support up to 2x faster video encoding. The starting prices remain consistent with previous generations, with the iPhone 16 starting at $799, while the Pro models start at $999\n",
    "\"\"\""
   ]
  },
  {
   "cell_type": "code",
   "execution_count": 21,
   "id": "1b8610d7",
   "metadata": {},
   "outputs": [
    {
     "name": "stdout",
     "output_type": "stream",
     "text": [
      "According to the text, the new features and updates in the iPhone 16 include:\n",
      "\n",
      "* Larger displays: 6.1-inch for the base model, 6.7-inch for the iPhone 16 Plus, 6.3 inches for the iPhone 16 Pro, and 6.9 inches for the iPhone 16 Pro Max\n",
      "* Thinner bezels and a more durable Ceramic Shield\n",
      "* New A18 chip (A18 Pro for the Pro models) with enhanced performance, neural engine capabilities, and machine learning tasks\n",
      "* Upgraded camera systems, including a dual-camera setup with a 48MP main sensor for the base model and a 48MP Ultra Wide and 5x telephoto camera for the Pro models\n",
      "* \"Camera Control\" button for more flexible photography options\n",
      "* Advanced audio features like \"Audio Mix\" for more refined audio capture during video recording\n",
      "* Extended battery life, especially in the iPhone 16 Pro Max\n",
      "* Switch to USB-C for faster charging and data transfer\n",
      "* Support for up to 2x faster video encoding in the Pro models\n",
      "* No change in starting prices, with the iPhone 16 starting at $799 and the Pro models starting at $999.\n"
     ]
    }
   ],
   "source": [
    "user_prompt = f\"\"\"\n",
    "{iphone_16}\n",
    "\n",
    "What's new in iPhone 16? \n",
    "\"\"\"\n",
    "\n",
    "messages = [{\"role\": \"system\", \"content\": user_prompt}]\n",
    "response = get_chatbot_response(client, model_name, messages)\n",
    "print(response)"
   ]
  },
  {
   "cell_type": "markdown",
   "id": "a8148baf",
   "metadata": {},
   "source": [
    "### Automaticaly extract context from data from database"
   ]
  },
  {
   "cell_type": "code",
   "execution_count": 23,
   "id": "27e0fdee",
   "metadata": {},
   "outputs": [],
   "source": [
    "samsung_s23 = \"\"\"\n",
    "The Samsung Galaxy S23 brings some incremental but notable upgrades to its predecessor, the Galaxy S22. It features the Snapdragon 8 Gen 2 processor, a powerful chip optimized for the S23 series, delivering enhanced performance, especially for gaming and multitasking. This chip ensures top-tier speed and efficiency across all models, from the base S23 to the larger S23+ and S23 Ultra​\n",
    "STUFF\n",
    "\n",
    "TECHRADAR\n",
    ".\n",
    "\n",
    "In terms of design, the S23's camera module has been streamlined by removing the raised metal contour around the cameras, creating a cleaner, sleeker look. It also sports the same 6.1-inch 120Hz AMOLED display, protected by tougher Gorilla Glass Victus 2, making it more resistant to scratches and drops​\n",
    "TECHRADAR\n",
    ".\n",
    "\n",
    "The S23 Ultra stands out with its 200MP main camera, offering impressive photo clarity, especially in low-light conditions. The selfie camera across the series has been updated to a 12MP sensor, resulting in sharper selfies. The Ultra model also includes productivity tools such as the S-Pen, which remains an essential feature for note-taking and creative tasks​\n",
    "STUFF\n",
    "\n",
    "TECHRADAR\n",
    ".\n",
    "\n",
    "Battery life is solid, with the S23 Ultra featuring a 5000mAh battery that lasts comfortably through a day of heavy use. However, charging speeds still lag behind some competitors, with 45W wired charging, which is slower than other brands offering up to 125W charging​\n",
    "STUFF\n",
    ".\n",
    "\n",
    "Overall, the Galaxy S23 series enhances performance, durability, and camera quality, making it a strong contender for users seeking a high-performance flagship.\n",
    "\"\"\""
   ]
  },
  {
   "cell_type": "code",
   "execution_count": 24,
   "id": "048ff943",
   "metadata": {},
   "outputs": [],
   "source": [
    "data = [iphone_16, samsung_s23]"
   ]
  },
  {
   "cell_type": "code",
   "execution_count": 25,
   "id": "054e083e",
   "metadata": {},
   "outputs": [],
   "source": [
    "user_prompt = \"\"\"\n",
    "What's new in iPhone 16?\n",
    "\"\"\""
   ]
  },
  {
   "cell_type": "code",
   "execution_count": 26,
   "id": "fcea5af5",
   "metadata": {},
   "outputs": [],
   "source": [
    "embedding_client = OpenAI(\n",
    "    api_key=os.getenv('RUNPOD_TOKEN'),\n",
    "    base_url=os.getenv('RUNPOD_EMBEDDING_URL')\n",
    ")"
   ]
  },
  {
   "cell_type": "code",
   "execution_count": 27,
   "id": "fc534e78",
   "metadata": {},
   "outputs": [],
   "source": [
    "def get_embedding(embedding_client, model_name, text_input):\n",
    "    output = embedding_client.embeddings.create(\n",
    "        input=text_input, \n",
    "        model=model_name    \n",
    "    )\n",
    "    embeddings = []\n",
    "    for embedding_object in output.data:\n",
    "        embeddings.append(embedding_object.embedding)\n",
    "\n",
    "    return embeddings"
   ]
  },
  {
   "cell_type": "code",
   "execution_count": 34,
   "id": "f658862b",
   "metadata": {},
   "outputs": [],
   "source": [
    "user_prompt_embedding = get_embedding(embedding_client, model_name, user_prompt)[0]"
   ]
  },
  {
   "cell_type": "code",
   "execution_count": 35,
   "id": "adf32956",
   "metadata": {},
   "outputs": [
    {
     "data": {
      "text/plain": [
       "[-0.05107622966170311,\n",
       " -0.03489547595381737,\n",
       " 0.06362394988536835,\n",
       " -0.008907047100365162,\n",
       " -0.03724626451730728,\n",
       " -0.0420089028775692,\n",
       " 0.015967046841979027,\n",
       " 0.031155584380030632,\n",
       " -0.012799587100744247,\n",
       " 0.04243631660938263,\n",
       " 0.05556409806013107,\n",
       " 0.013288062997162342,\n",
       " -0.07217226922512054,\n",
       " 0.00139673484954983,\n",
       " 0.09635180979967117,\n",
       " 0.028697941452264786,\n",
       " 0.11521918326616287,\n",
       " -0.14751963317394257,\n",
       " -0.07907198369503021,\n",
       " 0.016165489330887794,\n",
       " -0.03666619956493378,\n",
       " -0.014616105705499649,\n",
       " -0.039841290563344955,\n",
       " -0.030025985091924667,\n",
       " 0.030025985091924667,\n",
       " 0.061517395079135895,\n",
       " 0.0010771268280223012,\n",
       " -0.012753792107105255,\n",
       " -0.019157402217388153,\n",
       " -0.13848282396793365,\n",
       " -0.000405234401114285,\n",
       " -0.006754701491445303,\n",
       " 0.01666923053562641,\n",
       " 0.026835627853870392,\n",
       " 0.00040475736022926867,\n",
       " -0.038497984409332275,\n",
       " -0.0031502859201282263,\n",
       " 0.03492600470781326,\n",
       " -0.009632128290832043,\n",
       " 0.06380712240934372,\n",
       " 0.029629098251461983,\n",
       " 0.09103964269161224,\n",
       " -0.10141974687576294,\n",
       " -0.024194806814193726,\n",
       " 0.046832598745822906,\n",
       " 0.005743404384702444,\n",
       " 0.027247779071331024,\n",
       " -0.019874850288033485,\n",
       " 0.011669986881315708,\n",
       " -0.04280267283320427,\n",
       " 0.04548928886651993,\n",
       " -0.0022591997403651476,\n",
       " 0.014707694761455059,\n",
       " -0.05461767688393593,\n",
       " -0.007788896095007658,\n",
       " -0.016333403065800667,\n",
       " 0.007899566553533077,\n",
       " 0.031445614993572235,\n",
       " 0.06869187951087952,\n",
       " 0.042650025337934494,\n",
       " 0.08859726041555405,\n",
       " -0.023278914391994476,\n",
       " -0.14458878338336945,\n",
       " 0.09653498977422714,\n",
       " 0.009334463626146317,\n",
       " 0.03687990829348564,\n",
       " -0.04545876011252403,\n",
       " -0.11424223333597183,\n",
       " 0.0237368606030941,\n",
       " -0.07345451414585114,\n",
       " -0.005682345014065504,\n",
       " 0.03633037209510803,\n",
       " 0.04530611261725426,\n",
       " 0.062311168760061264,\n",
       " -0.016333403065800667,\n",
       " -0.007907198742032051,\n",
       " 0.07491994649171829,\n",
       " 0.026072384789586067,\n",
       " -0.04176466166973114,\n",
       " 0.03443752974271774,\n",
       " 0.06850869953632355,\n",
       " 0.008762030862271786,\n",
       " 0.020928125828504562,\n",
       " 0.028804795816540718,\n",
       " 0.030590783804655075,\n",
       " -0.04231419786810875,\n",
       " -0.038192685693502426,\n",
       " 0.028713205829262733,\n",
       " 0.0009874458191916347,\n",
       " -0.08352932333946228,\n",
       " 0.0031197562348097563,\n",
       " -0.021874547004699707,\n",
       " 0.06344076991081238,\n",
       " 0.04524505138397217,\n",
       " -0.11241044849157333,\n",
       " 0.05959402397274971,\n",
       " 0.025034373626112938,\n",
       " -0.05898342654109001,\n",
       " -0.05486191436648369,\n",
       " 0.3072511553764343,\n",
       " -0.01845521852374077,\n",
       " 0.03553659841418266,\n",
       " 0.05855601280927658,\n",
       " -0.03932228684425354,\n",
       " 0.03419329226016998,\n",
       " -0.050923582166433334,\n",
       " -0.019096342846751213,\n",
       " -0.03730732202529907,\n",
       " -0.04585564509034157,\n",
       " 0.0572127029299736,\n",
       " -0.007613350171595812,\n",
       " -0.04109301045536995,\n",
       " 0.0602656751871109,\n",
       " 0.007533209398388863,\n",
       " -0.003976496867835522,\n",
       " -0.040268708020448685,\n",
       " 0.052572187036275864,\n",
       " 0.050801463425159454,\n",
       " 0.052572187036275864,\n",
       " 0.05046563595533371,\n",
       " 0.01059381477534771,\n",
       " 0.017493532970547676,\n",
       " -0.0074149067513644695,\n",
       " 0.016821878030896187,\n",
       " -0.0017144348239526153,\n",
       " -0.025232817977666855,\n",
       " 0.0024729077704250813,\n",
       " 0.03611666336655617,\n",
       " -0.031201379373669624,\n",
       " 0.02124868892133236,\n",
       " 0.00906732864677906,\n",
       " 0.01099070068448782,\n",
       " -0.08853620290756226,\n",
       " 0.05562515929341316,\n",
       " 0.03633037209510803,\n",
       " -0.024973314255475998,\n",
       " 0.0034250535536557436,\n",
       " -0.015333553776144981,\n",
       " 0.020806007087230682,\n",
       " 0.006674561183899641,\n",
       " -0.07809503376483917,\n",
       " -0.027843108400702477,\n",
       " 0.08835302293300629,\n",
       " -0.0779118537902832,\n",
       " 0.012074505910277367,\n",
       " 0.0346817672252655,\n",
       " -0.00020178240083623677,\n",
       " 0.05138152837753296,\n",
       " -0.00021835908410139382,\n",
       " 0.040635064244270325,\n",
       " -0.0322699174284935,\n",
       " 0.08383462578058243,\n",
       " 0.03336898982524872,\n",
       " 0.01656237617135048,\n",
       " 0.019508494064211845,\n",
       " 0.012990397401154041,\n",
       " -0.018836840987205505,\n",
       " -0.0389559268951416,\n",
       " -0.019157402217388153,\n",
       " 0.08181966096162796,\n",
       " -0.008029317483305931,\n",
       " 0.007582820486277342,\n",
       " -0.06240275874733925,\n",
       " -0.01972220279276371,\n",
       " -0.011135716922581196,\n",
       " -0.17096646130084991,\n",
       " 0.007601901423186064,\n",
       " 0.05119834840297699,\n",
       " -0.04722948372364044,\n",
       " -0.0004851364064961672,\n",
       " -0.010143500752747059,\n",
       " -0.0063921608962118626,\n",
       " 0.024072688072919846,\n",
       " -0.030697638168931007,\n",
       " 0.06722645461559296,\n",
       " -0.029552772641181946,\n",
       " 0.026637185364961624,\n",
       " 0.09415367245674133,\n",
       " -0.006499015260487795,\n",
       " -0.005712874699383974,\n",
       " -0.02306520752608776,\n",
       " -0.029201680794358253,\n",
       " -0.10093127191066742,\n",
       " 0.050984639674425125,\n",
       " 0.06130368635058403,\n",
       " -0.027186719700694084,\n",
       " 0.016547109931707382,\n",
       " -0.01296750083565712,\n",
       " 0.08334615081548691,\n",
       " -0.01595178060233593,\n",
       " 0.025049639865756035,\n",
       " 0.030972406268119812,\n",
       " -0.07327134162187576,\n",
       " 0.058830779045820236,\n",
       " -0.03926122561097145,\n",
       " -0.015722807496786118,\n",
       " 0.01137995533645153,\n",
       " 0.038925398141145706,\n",
       " 0.0027572158724069595,\n",
       " -0.05519774183630943,\n",
       " 0.014562678523361683,\n",
       " -0.006739436648786068,\n",
       " 0.02385897934436798,\n",
       " 0.034010112285614014,\n",
       " 0.07205014675855637,\n",
       " -0.004503134172409773,\n",
       " 0.0009216160397045314,\n",
       " -0.04979398101568222,\n",
       " 0.031018199399113655,\n",
       " 0.01898948848247528,\n",
       " -0.0006239512586034834,\n",
       " 0.013616257347166538,\n",
       " 0.12553822994232178,\n",
       " -0.016394462436437607,\n",
       " -0.0012793862260878086,\n",
       " -0.07949940115213394,\n",
       " -0.026698244735598564,\n",
       " 0.04048241674900055,\n",
       " -0.04475657641887665,\n",
       " -0.0377347394824028,\n",
       " -0.004678680095821619,\n",
       " 0.05611363425850868,\n",
       " 0.025828147307038307,\n",
       " -0.258159339427948,\n",
       " 0.04243631660938263,\n",
       " -0.00864754430949688,\n",
       " -0.06734856963157654,\n",
       " -0.008426204323768616,\n",
       " -0.03440700098872185,\n",
       " -0.002146621234714985,\n",
       " -0.042100489139556885,\n",
       " 0.0620974600315094,\n",
       " 0.04005499929189682,\n",
       " -0.01772250607609749,\n",
       " 0.013799435459077358,\n",
       " 0.06374606490135193,\n",
       " 0.029919130727648735,\n",
       " 0.05647999048233032,\n",
       " 0.006857739295810461,\n",
       " 0.014036040753126144,\n",
       " -0.06301335245370865,\n",
       " 0.03535342216491699,\n",
       " 0.009021533653140068,\n",
       " -0.03703255578875542,\n",
       " 0.010296150110661983,\n",
       " 0.02756834216415882,\n",
       " -0.014249748550355434,\n",
       " -0.010311414487659931,\n",
       " -0.09647393226623535,\n",
       " 0.050374045968055725,\n",
       " 0.0060296207666397095,\n",
       " 0.012471392750740051,\n",
       " 0.013921554200351238,\n",
       " 0.04084877297282219,\n",
       " 0.053671255707740784,\n",
       " -0.03330792859196663,\n",
       " -0.12132512778043747,\n",
       " -0.0020054213237017393,\n",
       " 0.03431541100144386,\n",
       " 0.033765874803066254,\n",
       " 0.06362394988536835,\n",
       " -0.07644642889499664,\n",
       " -0.09171129018068314,\n",
       " 0.0019539024215191603,\n",
       " 0.02508016861975193,\n",
       " 0.04268055409193039,\n",
       " -0.06490619480609894,\n",
       " 0.02202719636261463,\n",
       " 0.02002749964594841,\n",
       " -0.016699759289622307,\n",
       " 0.038559041917324066,\n",
       " -0.04530611261725426,\n",
       " -0.027064600959420204,\n",
       " 0.04448181018233299,\n",
       " -0.00952527392655611,\n",
       " 0.06722645461559296,\n",
       " 0.02198140136897564,\n",
       " 0.04759583994746208,\n",
       " -0.02149292640388012,\n",
       " -0.05486191436648369,\n",
       " 0.01570754311978817,\n",
       " 0.013669684529304504,\n",
       " -0.004709210246801376,\n",
       " -0.04439022019505501,\n",
       " 0.011570765636861324,\n",
       " -0.06545572727918625,\n",
       " -0.08114800602197647,\n",
       " 0.015905987471342087,\n",
       " 0.0016085348324850202,\n",
       " -0.026377681642770767,\n",
       " -0.13054510951042175,\n",
       " -0.05647999048233032,\n",
       " -0.12120300531387329,\n",
       " -0.0009092133841477334,\n",
       " 0.0028087347745895386,\n",
       " -0.029659627005457878,\n",
       " 0.015997575595974922,\n",
       " 0.022744644433259964,\n",
       " -0.020836537703871727,\n",
       " 0.0882309079170227,\n",
       " 0.030056513845920563,\n",
       " 0.03691043704748154,\n",
       " -0.03623878210783005,\n",
       " -0.006674561183899641,\n",
       " 0.11399798840284348,\n",
       " 0.03968864306807518,\n",
       " -0.020775478333234787,\n",
       " 0.0007479782798327506,\n",
       " 0.04090983048081398,\n",
       " 0.0554114505648613,\n",
       " -0.030911346897482872,\n",
       " 0.016882937401533127,\n",
       " -0.034010112285614014,\n",
       " -0.002333615906536579,\n",
       " -0.041367776691913605,\n",
       " 0.01869945600628853,\n",
       " -0.0851779356598854,\n",
       " 0.06502831727266312,\n",
       " -0.008792560547590256,\n",
       " -0.15814396739006042,\n",
       " -0.0008906092843972147,\n",
       " 0.021080775186419487,\n",
       " 0.013768905773758888,\n",
       " -0.05867813155055046,\n",
       " -0.024011628702282906,\n",
       " 0.02685089223086834,\n",
       " -0.017753034830093384,\n",
       " -0.030025985091924667,\n",
       " 0.03852851316332817,\n",
       " -0.04329114779829979,\n",
       " -0.03636090084910393,\n",
       " 0.005170972086489201,\n",
       " -0.021996665745973587,\n",
       " -0.010425901040434837,\n",
       " 0.024149011820554733,\n",
       " 0.08200284093618393,\n",
       " 0.009181814268231392,\n",
       " 0.014104733243584633,\n",
       " 0.010357209481298923,\n",
       " -0.024484839290380478,\n",
       " -0.029491713270545006,\n",
       " 0.059624552726745605,\n",
       " -0.07131743431091309,\n",
       " -0.030697638168931007,\n",
       " 0.028820060193538666,\n",
       " 0.025721292942762375,\n",
       " 0.023355240002274513,\n",
       " -0.006369263865053654,\n",
       " 0.03361322730779648,\n",
       " 0.021630309522151947,\n",
       " 0.007147771771997213,\n",
       " 0.05434291064739227,\n",
       " 0.027598870918154716,\n",
       " -0.023172061890363693,\n",
       " -0.010250355117022991,\n",
       " -0.04967186227440834,\n",
       " -0.03220885992050171,\n",
       " -0.03013283759355545,\n",
       " 0.027782049030065536,\n",
       " -0.05333542823791504,\n",
       " 0.003934518434107304,\n",
       " -0.13127781450748444,\n",
       " 0.019371110945940018,\n",
       " 0.06337970495223999,\n",
       " -0.050862520933151245,\n",
       " -0.04643571004271507,\n",
       " 0.03330792859196663,\n",
       " -0.033399518579244614,\n",
       " -0.010479328222572803,\n",
       " -0.009723717346787453,\n",
       " -0.03938334435224533,\n",
       " 0.000373273593140766,\n",
       " 0.03037707693874836,\n",
       " 0.053427018225193024,\n",
       " -0.0010418269084766507,\n",
       " -0.012952235527336597,\n",
       " -0.04417651146650314,\n",
       " 0.03373534604907036,\n",
       " 0.04054347425699234,\n",
       " 0.026316622272133827,\n",
       " 0.0060448856092989445,\n",
       " -0.05611363425850868,\n",
       " 0.0164402574300766,\n",
       " -0.013669684529304504]"
      ]
     },
     "execution_count": 35,
     "metadata": {},
     "output_type": "execute_result"
    }
   ],
   "source": [
    "user_prompt_embedding"
   ]
  },
  {
   "cell_type": "code",
   "execution_count": 36,
   "id": "5e9adab6",
   "metadata": {},
   "outputs": [],
   "source": [
    "data_embeddings = [get_embedding(embedding_client, model_name, text)[0] for text in data]"
   ]
  },
  {
   "cell_type": "code",
   "execution_count": 37,
   "id": "8b5acfa7",
   "metadata": {},
   "outputs": [],
   "source": [
    "data_similarity = cosine_similarity([user_prompt_embedding], data_embeddings)"
   ]
  },
  {
   "cell_type": "code",
   "execution_count": 38,
   "id": "e8ceef4a",
   "metadata": {},
   "outputs": [
    {
     "data": {
      "text/plain": [
       "array([[0.7378098 , 0.52626918]])"
      ]
     },
     "execution_count": 38,
     "metadata": {},
     "output_type": "execute_result"
    }
   ],
   "source": [
    "data_similarity"
   ]
  },
  {
   "cell_type": "code",
   "execution_count": 39,
   "id": "6e9f3072",
   "metadata": {},
   "outputs": [
    {
     "data": {
      "text/plain": [
       "0"
      ]
     },
     "execution_count": 39,
     "metadata": {},
     "output_type": "execute_result"
    }
   ],
   "source": [
    "closest_entry_index = data_similarity.argmax()\n",
    "closest_entry_index"
   ]
  },
  {
   "cell_type": "code",
   "execution_count": 40,
   "id": "ee5944fd",
   "metadata": {},
   "outputs": [
    {
     "data": {
      "text/plain": [
       "'\\nThe iPhone 16 introduces several exciting updates, making it one of Apple\\'s most advanced smartphones to date. It features a larger 6.1-inch display for the base model and a 6.7-inch screen for the iPhone 16 Plus, with thinner bezels and a more durable Ceramic Shield. The iPhone 16 Pro and Pro Max boast even larger displays, measuring 6.3 and 6.9 inches respectively, offering the thinnest bezels seen on any Apple product so far.\\n\\nPowered by the new A18 chip (A18 Pro for the Pro models), these phones deliver significant performance improvements, with enhanced neural engine capabilities, faster GPU for gaming, and machine learning tasks. The camera systems are also upgraded, with the base iPhone 16 sporting a dual-camera setup with a 48MP main sensor. The Pro models offer a 48MP Ultra Wide and 5x telephoto camera, enhanced by Apple’s \"Camera Control\" button for more flexible photography options.\\n\\nApple also introduced advanced audio features like \"Audio Mix,\" which uses machine learning to separate background sounds from speech, allowing for more refined audio capture during video recording. Battery life has been extended, especially in the iPhone 16 Pro Max, which is claimed to have the longest-lasting battery of any iPhone \\n9TO5MAC\\n\\nAPPLEMAGAZINE\\n.\\n\\nAdditionally, Apple has switched to USB-C for faster charging and data transfer, and the Pro models now support up to 2x faster video encoding. The starting prices remain consistent with previous generations, with the iPhone 16 starting at $799, while the Pro models start at $999\\n'"
      ]
     },
     "execution_count": 40,
     "metadata": {},
     "output_type": "execute_result"
    }
   ],
   "source": [
    "data[closest_entry_index]"
   ]
  },
  {
   "cell_type": "code",
   "execution_count": 41,
   "id": "92928dd1",
   "metadata": {},
   "outputs": [],
   "source": [
    "user_prompt_with_data = f\"\"\"\n",
    "{data[closest_entry_index]}\n",
    "\n",
    "{user_prompt}\n",
    "\"\"\""
   ]
  },
  {
   "cell_type": "code",
   "execution_count": 42,
   "id": "702cd727",
   "metadata": {},
   "outputs": [
    {
     "name": "stdout",
     "output_type": "stream",
     "text": [
      "\n",
      "\n",
      "The iPhone 16 introduces several exciting updates, making it one of Apple's most advanced smartphones to date. It features a larger 6.1-inch display for the base model and a 6.7-inch screen for the iPhone 16 Plus, with thinner bezels and a more durable Ceramic Shield. The iPhone 16 Pro and Pro Max boast even larger displays, measuring 6.3 and 6.9 inches respectively, offering the thinnest bezels seen on any Apple product so far.\n",
      "\n",
      "Powered by the new A18 chip (A18 Pro for the Pro models), these phones deliver significant performance improvements, with enhanced neural engine capabilities, faster GPU for gaming, and machine learning tasks. The camera systems are also upgraded, with the base iPhone 16 sporting a dual-camera setup with a 48MP main sensor. The Pro models offer a 48MP Ultra Wide and 5x telephoto camera, enhanced by Apple’s \"Camera Control\" button for more flexible photography options.\n",
      "\n",
      "Apple also introduced advanced audio features like \"Audio Mix,\" which uses machine learning to separate background sounds from speech, allowing for more refined audio capture during video recording. Battery life has been extended, especially in the iPhone 16 Pro Max, which is claimed to have the longest-lasting battery of any iPhone \n",
      "9TO5MAC\n",
      "\n",
      "APPLEMAGAZINE\n",
      ".\n",
      "\n",
      "Additionally, Apple has switched to USB-C for faster charging and data transfer, and the Pro models now support up to 2x faster video encoding. The starting prices remain consistent with previous generations, with the iPhone 16 starting at $799, while the Pro models start at $999\n",
      "\n",
      "\n",
      "\n",
      "What's new in iPhone 16?\n",
      "\n",
      "\n"
     ]
    }
   ],
   "source": [
    "print(user_prompt_with_data)"
   ]
  },
  {
   "cell_type": "code",
   "execution_count": 43,
   "id": "aef48c97",
   "metadata": {},
   "outputs": [
    {
     "name": "stdout",
     "output_type": "stream",
     "text": [
      "According to the text, the new features in iPhone 16 include:\n",
      "\n",
      "* Larger displays: 6.1-inch for the base model, 6.7-inch for the iPhone 16 Plus, 6.3 inches for the iPhone 16 Pro, and 6.9 inches for the iPhone 16 Pro Max\n",
      "* Thinner bezels and a more durable Ceramic Shield\n",
      "* New A18 chip (A18 Pro for the Pro models) with enhanced performance, neural engine capabilities, and machine learning tasks\n",
      "* Upgraded camera systems, including a dual-camera setup with a 48MP main sensor for the base model and a 48MP Ultra Wide and 5x telephoto camera for the Pro models\n",
      "* \"Camera Control\" button for more flexible photography options\n",
      "* Advanced audio features like \"Audio Mix\" for refined audio capture during video recording\n",
      "* Extended battery life, especially in the iPhone 16 Pro Max\n",
      "* Switch to USB-C for faster charging and data transfer\n",
      "* Support for up to 2x faster video encoding in the Pro models\n",
      "* No change in starting prices, with the iPhone 16 starting at $799 and the Pro models starting at $999.\n"
     ]
    }
   ],
   "source": [
    "messages = [{\"role\": \"system\", \"content\": user_prompt_with_data}]\n",
    "response = get_chatbot_response(client, model_name, messages)\n",
    "print(response)"
   ]
  }
 ],
 "metadata": {
  "kernelspec": {
   "display_name": ".venv",
   "language": "python",
   "name": "python3"
  },
  "language_info": {
   "codemirror_mode": {
    "name": "ipython",
    "version": 3
   },
   "file_extension": ".py",
   "mimetype": "text/x-python",
   "name": "python",
   "nbconvert_exporter": "python",
   "pygments_lexer": "ipython3",
   "version": "3.12.5"
  }
 },
 "nbformat": 4,
 "nbformat_minor": 5
}
